{
 "cells": [
  {
   "cell_type": "code",
   "execution_count": 7,
   "id": "aggressive-affiliation",
   "metadata": {},
   "outputs": [
    {
     "name": "stdout",
     "output_type": "stream",
     "text": [
      "現在のダウ平均株価は33,066.96円です。\n",
      "-0.31%の変化が起きました。\n"
     ]
    }
   ],
   "source": [
    "from bs4 import BeautifulSoup\n",
    "import requests\n",
    "\n",
    "def get_movement():\n",
    "    url = 'https://nikkei225jp.com/nasdaq/'\n",
    "    req = requests.get(url)\n",
    "    html = req.text\n",
    "    sp = BeautifulSoup(html, 'html.parser')\n",
    "    sp2 = sp.find('div', class_='win2')\n",
    "    sp3 = sp2.find('tr')\n",
    "    sp4 = sp3.find('div', id='if_con')\n",
    "    all_data = sp4.find('div', id='if_con22')\n",
    "    datas = []\n",
    "    if all_data ==None:\n",
    "        return 'None'\n",
    "    else:\n",
    "        for tag in all_data.find_all('div', class_='if_box2'):\n",
    "            price = tag.find('div', class_='if_cur')\n",
    "            par = tag.find('div', class_='per')\n",
    "            data = [price.get_text(), par.get_text()]\n",
    "            datas.append(data)\n",
    "\n",
    "        text = '現在のダウ平均株価は{}円です。\\n{}の変化が起きました。'\n",
    "        return text.format(datas[1][0], datas[1][1])\n",
    "    \n",
    "\n",
    "print(get_movement())\n"
   ]
  },
  {
   "cell_type": "code",
   "execution_count": null,
   "id": "finnish-glass",
   "metadata": {},
   "outputs": [],
   "source": []
  }
 ],
 "metadata": {
  "kernelspec": {
   "display_name": "Python 3",
   "language": "python",
   "name": "python3"
  },
  "language_info": {
   "codemirror_mode": {
    "name": "ipython",
    "version": 3
   },
   "file_extension": ".py",
   "mimetype": "text/x-python",
   "name": "python",
   "nbconvert_exporter": "python",
   "pygments_lexer": "ipython3",
   "version": "3.8.1"
  }
 },
 "nbformat": 4,
 "nbformat_minor": 5
}
